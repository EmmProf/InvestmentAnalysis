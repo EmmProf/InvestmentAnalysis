{
 "cells": [
  {
   "cell_type": "markdown",
   "metadata": {},
   "source": [
    "### Notes\n",
    "\n",
    "Using Daily stock prices (High), we want to group similar stock together, e.g. find stocks that are from companies in same industry groups\n",
    "\n",
    "Some questions about stock data:\n",
    "\n",
    "Preferred or common ? Mid, Bid, Offer ? From what source so how much price discovery (represent all market) ?\n",
    "\n",
    "The stock price depends on many factors, so its development is really uncertain, the task is to reduce this uncertainty as much as possible\n",
    "\n",
    "Note that we only have information about the previous prices and volumes of our stock or correlated stocks. So our predictive logic is based on the assumption that future transactions prices are somehow related to previous prices/volumes/volality (and other property of the time series) of the same stock or of other stocks. Some naive causalities, which we hope the algorithm will find\n",
    "\n",
    "- A substantial part of the market is buying when there is an upward trend since x days/Maths conditionally on some form of the time series the price has a skewed probability distribution (more chance to go up). Maybe use this info for mean reversion kind of strategies.\n",
    "\n",
    "- The price of a really similar company stock is going up and the other is not, we notice by previous observations that conditionally on this event the price has a skewed probability distribution. (e.g.\n",
    "\n",
    "\n",
    "Thoughts on RL:\n",
    "Suppose that I am given a trading simulator (with full liquidity), which goes through all trading history (TO CONTINUE)"
   ]
  },
  {
   "cell_type": "code",
   "execution_count": 1,
   "metadata": {},
   "outputs": [],
   "source": []
  },
  {
   "cell_type": "code",
   "execution_count": null,
   "metadata": {},
   "outputs": [],
   "source": []
  }
 ],
 "metadata": {
  "kernelspec": {
   "display_name": "Python 3",
   "language": "python",
   "name": "python3"
  },
  "language_info": {
   "codemirror_mode": {
    "name": "ipython",
    "version": 3
   },
   "file_extension": ".py",
   "mimetype": "text/x-python",
   "name": "python",
   "nbconvert_exporter": "python",
   "pygments_lexer": "ipython3",
   "version": "3.6.4"
  }
 },
 "nbformat": 4,
 "nbformat_minor": 2
}
