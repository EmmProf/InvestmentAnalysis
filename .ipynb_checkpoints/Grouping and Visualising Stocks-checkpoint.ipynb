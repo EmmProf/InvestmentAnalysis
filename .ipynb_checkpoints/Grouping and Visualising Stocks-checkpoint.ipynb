{
 "cells": [
  {
   "cell_type": "markdown",
   "metadata": {},
   "source": [
    "### Notes\n",
    "\n",
    "Using Daily stock prices (High), we want to group similar stock together, e.g. find stocks that are from companies in same industry groups\n",
    "\n",
    "Some questions about stock data:\n",
    "\n",
    "Preferred or common ? Mid, Bid, Offer ? From what source so how much price discovery (represent all market) ?\n",
    "\n",
    "The stock price depends on many factors, so its development is really uncertain, the task is to reduce this uncertainty as much as possible\n",
    "\n",
    "Note that we only have information about the previous prices and volumes of our stock or correlated stocks. So our predictive logic is based on the assumption that future transactions prices are somehow related to previous prices/volumes/volality (and other property of the time series) of the same stock or of other stocks. Some naive causalities, which we hope the algorithm will find\n",
    "\n",
    "- A substantial part of the market is buying when there is an upward trend since x days/Maths conditionally on some form of the time series the price has a skewed probability distribution (more chance to go up). Maybe use this info for mean reversion kind of strategy.\n",
    "\n",
    "- The price of a really similar company stock is going up and the other is not, we notice by previous observations that conditionally on this event the price has a skewed probability distribution. Similar to statistical arbitrage strategy.\n",
    "\n",
    "\n",
    "\n",
    "Thoughts on RL:\n",
    "Suppose that I am given a trading simulator (with full liquidity), which goes through all trading history (TO CONTINUE), with only price and volume. I would observe the trading history, and makes decision based on experience. \n",
    "\"I remember the situations where X happened then almost everytime Y happened\". If we do not have these relations i.e. the evolution of the price is always independent from previous trading activity, then we can not do anything with these features, or people are just doing things purely randomly without using any indications.\n",
    "\n",
    "\n",
    "There is 2 steps:\n",
    "1 is to determine the conditional probability distribution of the future prices\n",
    "2 is given these predictions find an optimal strategy (here maybe can use an exploratory algo (RL))\n",
    "\n",
    "### To do\n",
    "\n",
    "Use LSTM, or do an analysis to determine how long should my time series go, surely the stock price 10 years ago does not influence the price of the stock today (or maybe \"this stock was so bad and now it is so good\", and this can trigger some kind of euphoria).\n",
    "Use as predictor this time series. What would be really nice is visualize these predictors (e.g. different events) with t-SNE in 2D and plot the tomorrows value against it.\n",
    "Maybe can have predictors of different size and preprocess them (kind of LSTM, keep the info that we need, e.g. momentum).\n",
    "Test set is one month and training set is several years.\n",
    "\n",
    "It would be nice to have more features (like volume buy and sells, total volume of shares, %of shares traded, inflation, news mood indicators)"
   ]
  },
  {
   "cell_type": "markdown",
   "metadata": {},
   "source": [
    "### Using t-SNE to visualize stock classes\n",
    "\n",
    "first we need to normalise the stocks then need to see them as 2d trajectories with time counting, the distance should not be a sum of independent closeness of points for isolated times, but stocks that have a series of similar daily change should be closer than if the similarities where isolated. Maybe take the volume between two curves. Taking the distribution of timewise closeness, if the closeness happens around closer times it should have a proportionate weight.\n",
    "\n",
    "\n",
    "Why should take the daily change instead of the deviation from initial price... deviation from initial price we can not compare stocks with different IPO date.\n",
    "\n",
    "### How to compare stocks ? What does it mean for stocks to be similar ?\n",
    "\n",
    "Comparing abosolute values does not make sense, we can compare market caps.\n",
    "Then the idea is to find properties, what characterize a stock (or more generally a time series) ?\n",
    "We can use the time series of price and build a lot of knew ones, knew meaningful features, kind of SVM idea, I do not reduce the features but I find knew ones, I enhance them. First we try to keep time series features, we want to have a similarity through time. (We could have features like the total entropy level of the time series, volatility, going from perfect line, to wiggly line, but maybe better to have a period entropy).\n",
    "\n",
    "Maybe start with daily returns, but then two stocks can be different in daily returns and have similar weekly/monthly/yearly returns. Also features like one day volatility, one week etc... Also concept trhough time (not just take the price on one week and see what interval they cover, maybe they cover a large interval but the transition was smooth, so a concept of non-smoothness). Ratio time period to price change magnitude.\n",
    "\n",
    "For now do with daily returns, and consider that being similar today or in the past is the same. \n",
    "\n",
    "For each time t\n",
    "\n",
    "Distance should not be just convolution product (inner product)"
   ]
  },
  {
   "cell_type": "code",
   "execution_count": null,
   "metadata": {},
   "outputs": [],
   "source": [
    "def d(T1s,T2s):\n",
    "    #compute a similarity matrix (see the two time series as a cloud of points)\n",
    "    Then sum it all"
   ]
  }
 ],
 "metadata": {
  "kernelspec": {
   "display_name": "Python 3",
   "language": "python",
   "name": "python3"
  },
  "language_info": {
   "codemirror_mode": {
    "name": "ipython",
    "version": 3
   },
   "file_extension": ".py",
   "mimetype": "text/x-python",
   "name": "python",
   "nbconvert_exporter": "python",
   "pygments_lexer": "ipython3",
   "version": "3.6.4"
  }
 },
 "nbformat": 4,
 "nbformat_minor": 2
}
